{
 "cells": [
  {
   "cell_type": "code",
   "execution_count": 3,
   "metadata": {},
   "outputs": [],
   "source": [
    "# Imports\n",
    "import numpy as np\n",
    "import pandas as pd\n",
    "\n",
    "import img_seg_package as img_seg"
   ]
  },
  {
   "cell_type": "code",
   "execution_count": 4,
   "metadata": {},
   "outputs": [
    {
     "name": "stdout",
     "output_type": "stream",
     "text": [
      "../Lung_Paper_Images/Raw_Images/Liver/AAV5/1/1/\n"
     ]
    },
    {
     "ename": "KeyboardInterrupt",
     "evalue": "",
     "output_type": "error",
     "traceback": [
      "\u001b[1;31m---------------------------------------------------------------------------\u001b[0m",
      "\u001b[1;31mKeyboardInterrupt\u001b[0m                         Traceback (most recent call last)",
      "\u001b[1;32m<ipython-input-4-373f61b9322f>\u001b[0m in \u001b[0;36m<module>\u001b[1;34m\u001b[0m\n\u001b[0;32m     43\u001b[0m                                                                                                               \u001b[0mtruncation\u001b[0m \u001b[1;33m=\u001b[0m \u001b[0mtruncation\u001b[0m\u001b[1;33m,\u001b[0m\u001b[1;33m\u001b[0m\u001b[1;33m\u001b[0m\u001b[0m\n\u001b[0;32m     44\u001b[0m                                                                                                               \u001b[0mthreshold\u001b[0m \u001b[1;33m=\u001b[0m \u001b[0mthreshold\u001b[0m\u001b[1;33m,\u001b[0m\u001b[1;33m\u001b[0m\u001b[1;33m\u001b[0m\u001b[0m\n\u001b[1;32m---> 45\u001b[1;33m                                                                                                               min_size = min_size)\n\u001b[0m\u001b[0;32m     46\u001b[0m \u001b[1;33m\u001b[0m\u001b[0m\n\u001b[0;32m     47\u001b[0m             \u001b[1;31m# Write all the information into a tidy dataframe\u001b[0m\u001b[1;33m\u001b[0m\u001b[1;33m\u001b[0m\u001b[1;33m\u001b[0m\u001b[0m\n",
      "\u001b[1;32m~\\Documents\\Graduate_School\\Gradinaru_Lab\\CAPA4_Project\\Image_Segmentation\\img_seg_package\\counter.py\u001b[0m in \u001b[0;36mcell_counter\u001b[1;34m(filepath, gaussian_size, truncation, threshold, size_thresh, min_size, interpixel_distance, low_thresh)\u001b[0m\n\u001b[0;32m    104\u001b[0m \u001b[1;33m\u001b[0m\u001b[0m\n\u001b[0;32m    105\u001b[0m     \u001b[1;31m# Get the positions of the corners and the size of the files\u001b[0m\u001b[1;33m\u001b[0m\u001b[1;33m\u001b[0m\u001b[1;33m\u001b[0m\u001b[0m\n\u001b[1;32m--> 106\u001b[1;33m     \u001b[0mcorners\u001b[0m\u001b[1;33m,\u001b[0m \u001b[0msize\u001b[0m \u001b[1;33m=\u001b[0m \u001b[0miris\u001b[0m\u001b[1;33m.\u001b[0m\u001b[0mget_stitching\u001b[0m\u001b[1;33m(\u001b[0m\u001b[0mverified_files\u001b[0m\u001b[1;33m)\u001b[0m\u001b[1;33m\u001b[0m\u001b[1;33m\u001b[0m\u001b[0m\n\u001b[0m\u001b[0;32m    107\u001b[0m \u001b[1;33m\u001b[0m\u001b[0m\n\u001b[0;32m    108\u001b[0m     \u001b[1;31m# Initialize the unstitched image size\u001b[0m\u001b[1;33m\u001b[0m\u001b[1;33m\u001b[0m\u001b[1;33m\u001b[0m\u001b[0m\n",
      "\u001b[1;32m~\\Documents\\Graduate_School\\Gradinaru_Lab\\CAPA4_Project\\Image_Segmentation\\img_seg_package\\iris.py\u001b[0m in \u001b[0;36mget_stitching\u001b[1;34m(file_list)\u001b[0m\n\u001b[0;32m     98\u001b[0m     \u001b[0msize_dict\u001b[0m \u001b[1;33m=\u001b[0m \u001b[1;33m{\u001b[0m\u001b[1;33m}\u001b[0m\u001b[1;33m\u001b[0m\u001b[1;33m\u001b[0m\u001b[0m\n\u001b[0;32m     99\u001b[0m     \u001b[1;32mfor\u001b[0m \u001b[0mf\u001b[0m \u001b[1;32min\u001b[0m \u001b[0mfile_list\u001b[0m\u001b[1;33m:\u001b[0m\u001b[1;33m\u001b[0m\u001b[1;33m\u001b[0m\u001b[0m\n\u001b[1;32m--> 100\u001b[1;33m         \u001b[0mcorner\u001b[0m\u001b[1;33m,\u001b[0m \u001b[0msize\u001b[0m \u001b[1;33m=\u001b[0m \u001b[0mposition_info\u001b[0m\u001b[1;33m(\u001b[0m\u001b[0mf\u001b[0m\u001b[1;33m)\u001b[0m\u001b[1;33m\u001b[0m\u001b[1;33m\u001b[0m\u001b[0m\n\u001b[0m\u001b[0;32m    101\u001b[0m         \u001b[0mcorner_dict\u001b[0m\u001b[1;33m[\u001b[0m\u001b[0mf\u001b[0m\u001b[1;33m]\u001b[0m \u001b[1;33m=\u001b[0m \u001b[0mcorner\u001b[0m\u001b[1;33m\u001b[0m\u001b[1;33m\u001b[0m\u001b[0m\n\u001b[0;32m    102\u001b[0m         \u001b[0msize_dict\u001b[0m\u001b[1;33m[\u001b[0m\u001b[0mf\u001b[0m\u001b[1;33m]\u001b[0m \u001b[1;33m=\u001b[0m \u001b[0msize\u001b[0m\u001b[1;33m\u001b[0m\u001b[1;33m\u001b[0m\u001b[0m\n",
      "\u001b[1;32m~\\Documents\\Graduate_School\\Gradinaru_Lab\\CAPA4_Project\\Image_Segmentation\\img_seg_package\\iris.py\u001b[0m in \u001b[0;36mposition_info\u001b[1;34m(path)\u001b[0m\n\u001b[0;32m     46\u001b[0m \u001b[1;33m\u001b[0m\u001b[0m\n\u001b[0;32m     47\u001b[0m     \u001b[1;31m# grab the hidden XML data from the TIFF file\u001b[0m\u001b[1;33m\u001b[0m\u001b[1;33m\u001b[0m\u001b[1;33m\u001b[0m\u001b[0m\n\u001b[1;32m---> 48\u001b[1;33m     \u001b[0mxml\u001b[0m \u001b[1;33m=\u001b[0m \u001b[0mextract_xml\u001b[0m\u001b[1;33m(\u001b[0m\u001b[0mpath\u001b[0m\u001b[1;33m)\u001b[0m\u001b[1;33m\u001b[0m\u001b[1;33m\u001b[0m\u001b[0m\n\u001b[0m\u001b[0;32m     49\u001b[0m \u001b[1;33m\u001b[0m\u001b[0m\n\u001b[0;32m     50\u001b[0m     \u001b[0mroot\u001b[0m \u001b[1;33m=\u001b[0m \u001b[0mET\u001b[0m\u001b[1;33m.\u001b[0m\u001b[0mfromstring\u001b[0m\u001b[1;33m(\u001b[0m\u001b[0mxml\u001b[0m\u001b[1;33m)\u001b[0m\u001b[1;33m\u001b[0m\u001b[1;33m\u001b[0m\u001b[0m\n",
      "\u001b[1;32m~\\Documents\\Graduate_School\\Gradinaru_Lab\\CAPA4_Project\\Image_Segmentation\\img_seg_package\\iris.py\u001b[0m in \u001b[0;36mextract_xml\u001b[1;34m(path)\u001b[0m\n\u001b[0;32m     27\u001b[0m         \u001b[0mmm\u001b[0m \u001b[1;33m=\u001b[0m \u001b[0mmmap\u001b[0m\u001b[1;33m.\u001b[0m\u001b[0mmmap\u001b[0m\u001b[1;33m(\u001b[0m\u001b[0mtif\u001b[0m\u001b[1;33m.\u001b[0m\u001b[0mfileno\u001b[0m\u001b[1;33m(\u001b[0m\u001b[1;33m)\u001b[0m\u001b[1;33m,\u001b[0m \u001b[1;36m0\u001b[0m\u001b[1;33m)\u001b[0m\u001b[1;33m\u001b[0m\u001b[1;33m\u001b[0m\u001b[0m\n\u001b[0;32m     28\u001b[0m         \u001b[0mmidx\u001b[0m \u001b[1;33m=\u001b[0m \u001b[0mmm\u001b[0m\u001b[1;33m.\u001b[0m\u001b[0mfind\u001b[0m\u001b[1;33m(\u001b[0m\u001b[1;34mb\"<?xml\"\u001b[0m\u001b[1;33m)\u001b[0m\u001b[1;33m\u001b[0m\u001b[1;33m\u001b[0m\u001b[0m\n\u001b[1;32m---> 29\u001b[1;33m         \u001b[0mxml\u001b[0m \u001b[1;33m=\u001b[0m \u001b[0mmm\u001b[0m\u001b[1;33m[\u001b[0m\u001b[0mmidx\u001b[0m\u001b[1;33m:\u001b[0m\u001b[1;33m]\u001b[0m\u001b[1;33m.\u001b[0m\u001b[0mdecode\u001b[0m\u001b[1;33m(\u001b[0m\u001b[1;34m'utf-8'\u001b[0m\u001b[1;33m)\u001b[0m\u001b[1;33m\u001b[0m\u001b[1;33m\u001b[0m\u001b[0m\n\u001b[0m\u001b[0;32m     30\u001b[0m \u001b[1;33m\u001b[0m\u001b[0m\n\u001b[0;32m     31\u001b[0m     \u001b[1;31m# force any unicode character into some decent ASCII approximation\u001b[0m\u001b[1;33m\u001b[0m\u001b[1;33m\u001b[0m\u001b[1;33m\u001b[0m\u001b[0m\n",
      "\u001b[1;31mKeyboardInterrupt\u001b[0m: "
     ]
    }
   ],
   "source": [
    "# File path to the images\n",
    "data_dir = '../Lung_Paper_Images/Raw_Images/Liver/'\n",
    "\n",
    "size_thresh = 0.4\n",
    "gaussian_size = 5\n",
    "truncation = 2\n",
    "threshold = 10000\n",
    "min_size = 10\n",
    "\n",
    "# Initialize a dataframe\n",
    "df = pd.DataFrame(columns=['Date', \n",
    "                           'Size Threshold', \n",
    "                           'Gaussian Size', \n",
    "                           'Truncation', \n",
    "                           'Intensity Threshold',\n",
    "                           'Minimum Size',\n",
    "                           'Virus', \n",
    "                           'Animal', \n",
    "                           'Replicate',  \n",
    "                           'Count',\n",
    "                           'Cells Quantified',\n",
    "                           'Brightness List',\n",
    "                           'Applied Threshold',\n",
    "                           'Image Multiplication Factor',\n",
    "                           'Minimum Pixel Value',\n",
    "                           'Maximum Pixel Value',\n",
    "                           'Area Threshold',\n",
    "                           'Total Area'])\n",
    "\n",
    "# You can use this line of code to continue a previous run, remember to adjust the following loop to avoid repeating sections.\n",
    "#df = pd.read_csv('Lung_Paper_Images/Post-Quantification/Brain/20190917_Stitched_Brain_Cell_Counts_with_Brightness_sampled.csv', comment='#')\n",
    "\n",
    "# Loop through all of the images \n",
    "for virus in ['AAV5', 'AAV9', 'CAPA4']:\n",
    "    for animal in ['1', '2', '3', '4', '5', '6']:\n",
    "        for replicate in ['1', '2']:\n",
    "            # Initialize the filename and read in the image\n",
    "            fname = data_dir + virus + '/' + animal + '/' + replicate +'/'\n",
    "            \n",
    "            n_cells, cell_list, cell_intensity_list, actual_thresh, mult, min_v, max_v, area_thresh, total_area  = img_seg.counter.cell_counter(fname,\n",
    "                                                                                                              size_thresh = size_thresh,\n",
    "                                                                                                              gaussian_size = gaussian_size,\n",
    "                                                                                                              truncation = truncation,\n",
    "                                                                                                              threshold = threshold,\n",
    "                                                                                                              min_size = min_size)\n",
    "            \n",
    "            # Write all the information into a tidy dataframe\n",
    "            df = df.append({'Date' : '2020-06-25',\n",
    "                            'Size Threshold' : size_thresh,\n",
    "                            'Gaussian Size' : gaussian_size,\n",
    "                            'Truncation' : truncation,\n",
    "                            'Intensity Threshold' : threshold, \n",
    "                            'Minimum Size' : min_size,\n",
    "                            'Virus' : virus, \n",
    "                            'Animal' : animal, \n",
    "                            'Replicate' : replicate, \n",
    "                            'Count' : int(n_cells),\n",
    "                            'Cells Quantified' : cell_list, \n",
    "                            'Brightness List': cell_intensity_list, \n",
    "                            'Applied Threshold': actual_thresh,\n",
    "                            'Image Multiplication Factor': mult, \n",
    "                            'Minimum Pixel Value': min_v,\n",
    "                            'Maximum Pixel Value': max_v,\n",
    "                            'Area Threshold': area_thresh, \n",
    "                            'Total Area': total_area},\n",
    "                           ignore_index=True)\n",
    "            \n",
    "            # Save the dataframe\n",
    "            df.to_csv('../Lung_Paper_Images/Quantification/Liver/20200625_Stitched_Liver_Cell_Counts_with_Brightness_sampled.csv', index=False)"
   ]
  },
  {
   "cell_type": "code",
   "execution_count": null,
   "metadata": {},
   "outputs": [],
   "source": []
  }
 ],
 "metadata": {
  "kernelspec": {
   "display_name": "Python 3",
   "language": "python",
   "name": "python3"
  },
  "language_info": {
   "codemirror_mode": {
    "name": "ipython",
    "version": 3
   },
   "file_extension": ".py",
   "mimetype": "text/x-python",
   "name": "python",
   "nbconvert_exporter": "python",
   "pygments_lexer": "ipython3",
   "version": "3.6.8"
  }
 },
 "nbformat": 4,
 "nbformat_minor": 4
}
